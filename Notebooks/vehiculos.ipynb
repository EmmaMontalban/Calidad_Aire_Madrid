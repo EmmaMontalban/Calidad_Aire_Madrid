{
 "cells": [
  {
   "cell_type": "code",
   "execution_count": 41,
   "metadata": {},
   "outputs": [],
   "source": [
    "import pandas as pd\n",
    "import os"
   ]
  },
  {
   "cell_type": "code",
   "execution_count": 42,
   "metadata": {},
   "outputs": [
    {
     "data": {
      "text/plain": [
       "['Parquevehiculos2014.csv',\n",
       " 'Parquevehiculos2015.csv',\n",
       " 'Parquevehiculos2016.csv',\n",
       " 'Parquevehiculos2017.csv',\n",
       " 'Parquevehiculos2018.csv',\n",
       " 'Parquevehiculos2019.csv',\n",
       " 'Parquevehiculos2020.csv',\n",
       " 'Parquevehiculos2021.csv',\n",
       " 'Parquevehiculos2022.csv',\n",
       " 'vehiculos_total.csv']"
      ]
     },
     "execution_count": 42,
     "metadata": {},
     "output_type": "execute_result"
    }
   ],
   "source": [
    "file_names = os.listdir('../data/vehiculos/')\n",
    "file_names"
   ]
  },
  {
   "cell_type": "code",
   "execution_count": 43,
   "metadata": {},
   "outputs": [
    {
     "name": "stdout",
     "output_type": "stream",
     "text": [
      "Parquevehiculos2014.csv (1, 17)\n",
      "Parquevehiculos2015.csv (1, 19)\n",
      "Parquevehiculos2016.csv (1, 19)\n",
      "Parquevehiculos2017.csv (1, 22)\n",
      "Parquevehiculos2018.csv (1, 22)\n",
      "Parquevehiculos2019.csv (1, 22)\n",
      "Parquevehiculos2020.csv (1, 22)\n",
      "Parquevehiculos2021.csv (1, 22)\n",
      "Parquevehiculos2022.csv (1, 33)\n",
      "vehiculos_total.csv (56, 1)\n"
     ]
    }
   ],
   "source": [
    "df_vehiculos = pd.DataFrame()\n",
    "for file_name in file_names:\n",
    "    df_current = pd.read_csv('../data/vehiculos/' + file_name, delimiter =';')\n",
    "    print(file_name, df_current.shape)\n",
    "    df_vehiculos = pd.concat([df_vehiculos, df_current], ignore_index=True)"
   ]
  },
  {
   "cell_type": "code",
   "execution_count": 44,
   "metadata": {},
   "outputs": [
    {
     "data": {
      "text/plain": [
       "(65, 67)"
      ]
     },
     "execution_count": 44,
     "metadata": {},
     "output_type": "execute_result"
    }
   ],
   "source": [
    "df_vehiculos.shape"
   ]
  },
  {
   "cell_type": "code",
   "execution_count": 45,
   "metadata": {},
   "outputs": [
    {
     "name": "stdout",
     "output_type": "stream",
     "text": [
      "<class 'pandas.core.frame.DataFrame'>\n",
      "RangeIndex: 65 entries, 0 to 64\n",
      "Data columns (total 67 columns):\n",
      " #   Column                                                                                                                                                                                                                                                                                                                                                                                                                                                                                                            Non-Null Count  Dtype  \n",
      "---  ------                                                                                                                                                                                                                                                                                                                                                                                                                                                                                                            --------------  -----  \n",
      " 0   Suma de Camion y furgoneta Gasolina                                                                                                                                                                                                                                                                                                                                                                                                                                                                               1 non-null      float64\n",
      " 1   Suma de Camion y furgoneta Gas-oil                                                                                                                                                                                                                                                                                                                                                                                                                                                                                1 non-null      float64\n",
      " 2   Suma de Camion y furgoneta Otros                                                                                                                                                                                                                                                                                                                                                                                                                                                                                  1 non-null      float64\n",
      " 3   Suma de Autobuses Gasolina                                                                                                                                                                                                                                                                                                                                                                                                                                                                                        1 non-null      float64\n",
      " 4   Suma de Autobuses Gas-oil                                                                                                                                                                                                                                                                                                                                                                                                                                                                                         1 non-null      float64\n",
      " 5   Suma de Autobuses Otros                                                                                                                                                                                                                                                                                                                                                                                                                                                                                           1 non-null      float64\n",
      " 6   Suma de Turismos Gasolina                                                                                                                                                                                                                                                                                                                                                                                                                                                                                         1 non-null      float64\n",
      " 7   Suma de Turismos Gas-oil                                                                                                                                                                                                                                                                                                                                                                                                                                                                                          1 non-null      float64\n",
      " 8   Suma de Turismos Otros                                                                                                                                                                                                                                                                                                                                                                                                                                                                                            1 non-null      float64\n",
      " 9   Suma de Motocicletas Gasolina                                                                                                                                                                                                                                                                                                                                                                                                                                                                                     1 non-null      float64\n",
      " 10  Suma de Motocicletas Gas-oil                                                                                                                                                                                                                                                                                                                                                                                                                                                                                      1 non-null      float64\n",
      " 11  Suma de Motocicletas Otros                                                                                                                                                                                                                                                                                                                                                                                                                                                                                        1 non-null      float64\n",
      " 12  Suma de Tractor Gasolina                                                                                                                                                                                                                                                                                                                                                                                                                                                                                          1 non-null      float64\n",
      " 13  Suma de Tractor Otros                                                                                                                                                                                                                                                                                                                                                                                                                                                                                             1 non-null      float64\n",
      " 14  Suma de Otros Vehiculos Gasolina                                                                                                                                                                                                                                                                                                                                                                                                                                                                                  1 non-null      float64\n",
      " 15  Suma de Otros Vehiculos Gas-oil                                                                                                                                                                                                                                                                                                                                                                                                                                                                                   1 non-null      float64\n",
      " 16  Suma de Otros Vehiculos Otros                                                                                                                                                                                                                                                                                                                                                                                                                                                                                     1 non-null      float64\n",
      " 17  Año                                                                                                                                                                                                                                                                                                                                                                                                                                                                                                               8 non-null      float64\n",
      " 18  Camion y\n",
      "furgoneta\n",
      "Gasolina                                                                                                                                                                                                                                                                                                                                                                                                                                                                                       2 non-null      float64\n",
      " 19  Camion y\n",
      "furgoneta\n",
      "Gas-oil                                                                                                                                                                                                                                                                                                                                                                                                                                                                                        2 non-null      float64\n",
      " 20  Camion y\n",
      "furgoneta\n",
      "Otros                                                                                                                                                                                                                                                                                                                                                                                                                                                                                          2 non-null      float64\n",
      " 21  Autobuses\n",
      "Gasolina                                                                                                                                                                                                                                                                                                                                                                                                                                                                                                8 non-null      float64\n",
      " 22  Autobuses\n",
      "Gas-oil                                                                                                                                                                                                                                                                                                                                                                                                                                                                                                 7 non-null      float64\n",
      " 23  Autobuses\n",
      "Otros                                                                                                                                                                                                                                                                                                                                                                                                                                                                                                   8 non-null      float64\n",
      " 24  Turismos\n",
      "Gasolina                                                                                                                                                                                                                                                                                                                                                                                                                                                                                                 8 non-null      object \n",
      " 25  Turismos\n",
      "Gas-oil                                                                                                                                                                                                                                                                                                                                                                                                                                                                                                  7 non-null      float64\n",
      " 26  Turismos\n",
      "Otros                                                                                                                                                                                                                                                                                                                                                                                                                                                                                                    8 non-null      float64\n",
      " 27  Motocicletas\n",
      "Gasolina                                                                                                                                                                                                                                                                                                                                                                                                                                                                                             8 non-null      float64\n",
      " 28  Motocicletas\n",
      "Gas-oil                                                                                                                                                                                                                                                                                                                                                                                                                                                                                              7 non-null      float64\n",
      " 29  Motocicletas\n",
      "Otros                                                                                                                                                                                                                                                                                                                                                                                                                                                                                                8 non-null      float64\n",
      " 30  Tractor\n",
      "Gasolina                                                                                                                                                                                                                                                                                                                                                                                                                                                                                                  7 non-null      float64\n",
      " 31  Tractor\n",
      "Gas-oil                                                                                                                                                                                                                                                                                                                                                                                                                                                                                                   7 non-null      float64\n",
      " 32  Tractor\n",
      "Otros                                                                                                                                                                                                                                                                                                                                                                                                                                                                                                     7 non-null      float64\n",
      " 33  Otros\n",
      "Vehiculos\n",
      "Gasolina                                                                                                                                                                                                                                                                                                                                                                                                                                                                                          8 non-null      float64\n",
      " 34  Otros\n",
      "Vehiculos\n",
      "Gas-oil                                                                                                                                                                                                                                                                                                                                                                                                                                                                                           7 non-null      float64\n",
      " 35  Otros\n",
      "Vehiculos\n",
      "Otros                                                                                                                                                                                                                                                                                                                                                                                                                                                                                             8 non-null      float64\n",
      " 36  Camion\n",
      "Gasolina                                                                                                                                                                                                                                                                                                                                                                                                                                                                                                   5 non-null      float64\n",
      " 37  Camion\n",
      "Gas-oil                                                                                                                                                                                                                                                                                                                                                                                                                                                                                                    5 non-null      float64\n",
      " 38  Camion\n",
      "Otros                                                                                                                                                                                                                                                                                                                                                                                                                                                                                                      5 non-null      float64\n",
      " 39  Furgoneta\n",
      "Gasolina                                                                                                                                                                                                                                                                                                                                                                                                                                                                                                5 non-null      float64\n",
      " 40  Furgoneta\n",
      "Gas-oil                                                                                                                                                                                                                                                                                                                                                                                                                                                                                                 5 non-null      float64\n",
      " 41  Furgoneta\n",
      "Otros                                                                                                                                                                                                                                                                                                                                                                                                                                                                                                   5 non-null      float64\n",
      " 42  Camiones\n",
      "Gasolina                                                                                                                                                                                                                                                                                                                                                                                                                                                                                                 1 non-null      float64\n",
      " 43  Camiones\n",
      "Gasoil                                                                                                                                                                                                                                                                                                                                                                                                                                                                                                   1 non-null      float64\n",
      " 44  Camiones\n",
      "Otros                                                                                                                                                                                                                                                                                                                                                                                                                                                                                                    1 non-null      float64\n",
      " 45  Furgonetas\n",
      "Gasolina                                                                                                                                                                                                                                                                                                                                                                                                                                                                                               1 non-null      float64\n",
      " 46  Furgonetas\n",
      "Gasoil                                                                                                                                                                                                                                                                                                                                                                                                                                                                                                 1 non-null      float64\n",
      " 47  Furgonetas\n",
      "Otros                                                                                                                                                                                                                                                                                                                                                                                                                                                                                                  1 non-null      float64\n",
      " 48  Autobuses\n",
      "Gasoil                                                                                                                                                                                                                                                                                                                                                                                                                                                                                                  1 non-null      float64\n",
      " 49  Turismos\n",
      "Gasoil                                                                                                                                                                                                                                                                                                                                                                                                                                                                                                   1 non-null      object \n",
      " 50  Motocicletas\n",
      "Gasoil                                                                                                                                                                                                                                                                                                                                                                                                                                                                                               1 non-null      float64\n",
      " 51  Tractores\n",
      "Industriales\n",
      "Gasolina                                                                                                                                                                                                                                                                                                                                                                                                                                                                                   1 non-null      float64\n",
      " 52  Tractores\n",
      "Industriales\n",
      "Gasoil                                                                                                                                                                                                                                                                                                                                                                                                                                                                                     1 non-null      float64\n",
      " 53  Tractores\n",
      "Industriales\n",
      "Otros                                                                                                                                                                                                                                                                                                                                                                                                                                                                                      1 non-null      float64\n",
      " 54  Otros\n",
      "Vehiculos\n",
      "Gasoil                                                                                                                                                                                                                                                                                                                                                                                                                                                                                            1 non-null      float64\n",
      " 55  Unnamed: 4                                                                                                                                                                                                                                                                                                                                                                                                                                                                                                        0 non-null      float64\n",
      " 56  Unnamed: 8                                                                                                                                                                                                                                                                                                                                                                                                                                                                                                        0 non-null      float64\n",
      " 57  Unnamed: 12                                                                                                                                                                                                                                                                                                                                                                                                                                                                                                       0 non-null      float64\n",
      " 58  Unnamed: 16                                                                                                                                                                                                                                                                                                                                                                                                                                                                                                       0 non-null      float64\n",
      " 59  Unnamed: 20                                                                                                                                                                                                                                                                                                                                                                                                                                                                                                       0 non-null      float64\n",
      " 60  Unnamed: 24                                                                                                                                                                                                                                                                                                                                                                                                                                                                                                       0 non-null      float64\n",
      " 61  Unnamed: 28                                                                                                                                                                                                                                                                                                                                                                                                                                                                                                       0 non-null      float64\n",
      " 62  Unnamed: 29                                                                                                                                                                                                                                                                                                                                                                                                                                                                                                       0 non-null      float64\n",
      " 63  Unnamed: 30                                                                                                                                                                                                                                                                                                                                                                                                                                                                                                       0 non-null      float64\n",
      " 64  Unnamed: 31                                                                                                                                                                                                                                                                                                                                                                                                                                                                                                       0 non-null      float64\n",
      " 65  Unnamed: 32                                                                                                                                                                                                                                                                                                                                                                                                                                                                                                       0 non-null      float64\n",
      " 66  Suma de Camion y furgoneta Gasolina,Suma de Camion y furgoneta Gas-oil,Suma de Camion y furgoneta Otros,Suma de Autobuses Gasolina,Suma de Autobuses Gas-oil,Suma de Autobuses Otros,Suma de Turismos Gasolina,Suma de Turismos Gas-oil,Suma de Turismos Otros,Suma de Motocicletas Gasolina,Suma de Motocicletas Gas-oil,Suma de Motocicletas Otros,Suma de Tractor Gasolina,Suma de Tractor Otros,Suma de Otros Vehiculos Gasolina,Suma de Otros Vehiculos Gas-oil,Suma de Otros Vehiculos Otros,Año,\"Camion y  56 non-null     object \n",
      "dtypes: float64(64), object(3)\n",
      "memory usage: 34.1+ KB\n"
     ]
    }
   ],
   "source": [
    "df_vehiculos.info()"
   ]
  },
  {
   "cell_type": "code",
   "execution_count": 46,
   "metadata": {},
   "outputs": [],
   "source": [
    "df_vehiculos.head(2)\n",
    "df_vehiculos.to_csv('../data/vehiculos/vehiculos_total.csv', index=False)\n"
   ]
  },
  {
   "cell_type": "code",
   "execution_count": 49,
   "metadata": {},
   "outputs": [
    {
     "data": {
      "text/plain": [
       "(65, 67)"
      ]
     },
     "execution_count": 49,
     "metadata": {},
     "output_type": "execute_result"
    }
   ],
   "source": [
    "df_vehiculos_total = pd.read_csv('../data/vehiculos/vehiculos_total.csv')\n",
    "df_vehiculos_total.shape"
   ]
  }
 ],
 "metadata": {
  "kernelspec": {
   "display_name": "Python 3",
   "language": "python",
   "name": "python3"
  },
  "language_info": {
   "codemirror_mode": {
    "name": "ipython",
    "version": 3
   },
   "file_extension": ".py",
   "mimetype": "text/x-python",
   "name": "python",
   "nbconvert_exporter": "python",
   "pygments_lexer": "ipython3",
   "version": "3.10.11"
  },
  "orig_nbformat": 4
 },
 "nbformat": 4,
 "nbformat_minor": 2
}
