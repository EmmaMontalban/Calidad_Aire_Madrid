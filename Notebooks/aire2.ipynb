{
 "cells": [
  {
   "cell_type": "code",
   "execution_count": 16,
   "metadata": {},
   "outputs": [],
   "source": [
    "import pandas as pd \n",
    "import numpy as np\n",
    "import os"
   ]
  },
  {
   "cell_type": "code",
   "execution_count": 17,
   "metadata": {},
   "outputs": [
    {
     "data": {
      "text/plain": [
       "['abr_mo14.csv',\n",
       " 'ago_mo14.csv',\n",
       " 'dic_mo14.csv',\n",
       " 'ene_mo14.csv',\n",
       " 'feb_mo14.csv',\n",
       " 'jul_mo14.csv',\n",
       " 'jun_mo14.csv',\n",
       " 'mar_mo14.csv',\n",
       " 'may_mo14.csv',\n",
       " 'nov_mo14.csv',\n",
       " 'oct_mo14.csv',\n",
       " 'sep_mo14.csv']"
      ]
     },
     "execution_count": 17,
     "metadata": {},
     "output_type": "execute_result"
    }
   ],
   "source": [
    "\n",
    "file_names = os.listdir('../data2/Anio2014/')\n",
    "file_names"
   ]
  },
  {
   "cell_type": "code",
   "execution_count": 18,
   "metadata": {},
   "outputs": [
    {
     "name": "stdout",
     "output_type": "stream",
     "text": [
      "abr_mo14.csv (4530, 56)\n",
      "ago_mo14.csv (4567, 56)\n",
      "dic_mo14.csv (4645, 56)\n",
      "ene_mo14.csv (4681, 56)\n",
      "feb_mo14.csv (4228, 56)\n",
      "jul_mo14.csv (4578, 56)\n",
      "jun_mo14.csv (4440, 56)\n",
      "mar_mo14.csv (4614, 56)\n",
      "may_mo14.csv (4614, 56)\n",
      "nov_mo14.csv (4530, 56)\n",
      "oct_mo14.csv (4623, 56)\n",
      "sep_mo14.csv (4440, 56)\n"
     ]
    }
   ],
   "source": [
    "df_aire = pd.DataFrame()\n",
    "for file_name in file_names:\n",
    "    df_current = pd.read_csv('../data2/Anio2014/' + file_name, delimiter=';')\n",
    "    print(file_name, df_current.shape)\n",
    "    df_aire = pd.concat([df_aire, df_current], ignore_index=True)"
   ]
  },
  {
   "cell_type": "code",
   "execution_count": 19,
   "metadata": {},
   "outputs": [
    {
     "data": {
      "text/html": [
       "<div>\n",
       "<style scoped>\n",
       "    .dataframe tbody tr th:only-of-type {\n",
       "        vertical-align: middle;\n",
       "    }\n",
       "\n",
       "    .dataframe tbody tr th {\n",
       "        vertical-align: top;\n",
       "    }\n",
       "\n",
       "    .dataframe thead th {\n",
       "        text-align: right;\n",
       "    }\n",
       "</style>\n",
       "<table border=\"1\" class=\"dataframe\">\n",
       "  <thead>\n",
       "    <tr style=\"text-align: right;\">\n",
       "      <th></th>\n",
       "      <th>PROVINCIA</th>\n",
       "      <th>MUNICIPIO</th>\n",
       "      <th>ESTACION</th>\n",
       "      <th>MAGNITUD</th>\n",
       "      <th>PUNTO_MUESTREO</th>\n",
       "      <th>ANO</th>\n",
       "      <th>MES</th>\n",
       "      <th>DIA</th>\n",
       "      <th>H01</th>\n",
       "      <th>V01</th>\n",
       "      <th>...</th>\n",
       "      <th>H20</th>\n",
       "      <th>V20</th>\n",
       "      <th>H21</th>\n",
       "      <th>V21</th>\n",
       "      <th>H22</th>\n",
       "      <th>V22</th>\n",
       "      <th>H23</th>\n",
       "      <th>V23</th>\n",
       "      <th>H24</th>\n",
       "      <th>V24</th>\n",
       "    </tr>\n",
       "  </thead>\n",
       "  <tbody>\n",
       "    <tr>\n",
       "      <th>54395</th>\n",
       "      <td>28</td>\n",
       "      <td>79</td>\n",
       "      <td>60</td>\n",
       "      <td>8</td>\n",
       "      <td>28079060_8_8</td>\n",
       "      <td>2014</td>\n",
       "      <td>9</td>\n",
       "      <td>26</td>\n",
       "      <td>11.0</td>\n",
       "      <td>V</td>\n",
       "      <td>...</td>\n",
       "      <td>30.0</td>\n",
       "      <td>V</td>\n",
       "      <td>60.0</td>\n",
       "      <td>V</td>\n",
       "      <td>78.0</td>\n",
       "      <td>V</td>\n",
       "      <td>95.0</td>\n",
       "      <td>V</td>\n",
       "      <td>86.0</td>\n",
       "      <td>V</td>\n",
       "    </tr>\n",
       "    <tr>\n",
       "      <th>54396</th>\n",
       "      <td>28</td>\n",
       "      <td>79</td>\n",
       "      <td>60</td>\n",
       "      <td>8</td>\n",
       "      <td>28079060_8_8</td>\n",
       "      <td>2014</td>\n",
       "      <td>9</td>\n",
       "      <td>27</td>\n",
       "      <td>66.0</td>\n",
       "      <td>V</td>\n",
       "      <td>...</td>\n",
       "      <td>23.0</td>\n",
       "      <td>V</td>\n",
       "      <td>22.0</td>\n",
       "      <td>V</td>\n",
       "      <td>22.0</td>\n",
       "      <td>V</td>\n",
       "      <td>17.0</td>\n",
       "      <td>V</td>\n",
       "      <td>12.0</td>\n",
       "      <td>V</td>\n",
       "    </tr>\n",
       "    <tr>\n",
       "      <th>54397</th>\n",
       "      <td>28</td>\n",
       "      <td>79</td>\n",
       "      <td>60</td>\n",
       "      <td>8</td>\n",
       "      <td>28079060_8_8</td>\n",
       "      <td>2014</td>\n",
       "      <td>9</td>\n",
       "      <td>28</td>\n",
       "      <td>11.0</td>\n",
       "      <td>V</td>\n",
       "      <td>...</td>\n",
       "      <td>13.0</td>\n",
       "      <td>V</td>\n",
       "      <td>29.0</td>\n",
       "      <td>V</td>\n",
       "      <td>43.0</td>\n",
       "      <td>V</td>\n",
       "      <td>55.0</td>\n",
       "      <td>V</td>\n",
       "      <td>34.0</td>\n",
       "      <td>V</td>\n",
       "    </tr>\n",
       "    <tr>\n",
       "      <th>54398</th>\n",
       "      <td>28</td>\n",
       "      <td>79</td>\n",
       "      <td>60</td>\n",
       "      <td>8</td>\n",
       "      <td>28079060_8_8</td>\n",
       "      <td>2014</td>\n",
       "      <td>9</td>\n",
       "      <td>29</td>\n",
       "      <td>54.0</td>\n",
       "      <td>V</td>\n",
       "      <td>...</td>\n",
       "      <td>39.0</td>\n",
       "      <td>V</td>\n",
       "      <td>50.0</td>\n",
       "      <td>V</td>\n",
       "      <td>61.0</td>\n",
       "      <td>V</td>\n",
       "      <td>73.0</td>\n",
       "      <td>V</td>\n",
       "      <td>61.0</td>\n",
       "      <td>V</td>\n",
       "    </tr>\n",
       "    <tr>\n",
       "      <th>54399</th>\n",
       "      <td>28</td>\n",
       "      <td>79</td>\n",
       "      <td>60</td>\n",
       "      <td>8</td>\n",
       "      <td>28079060_8_8</td>\n",
       "      <td>2014</td>\n",
       "      <td>9</td>\n",
       "      <td>30</td>\n",
       "      <td>39.0</td>\n",
       "      <td>V</td>\n",
       "      <td>...</td>\n",
       "      <td>32.0</td>\n",
       "      <td>V</td>\n",
       "      <td>62.0</td>\n",
       "      <td>V</td>\n",
       "      <td>73.0</td>\n",
       "      <td>V</td>\n",
       "      <td>95.0</td>\n",
       "      <td>V</td>\n",
       "      <td>25.0</td>\n",
       "      <td>V</td>\n",
       "    </tr>\n",
       "  </tbody>\n",
       "</table>\n",
       "<p>5 rows × 56 columns</p>\n",
       "</div>"
      ],
      "text/plain": [
       "       PROVINCIA  MUNICIPIO  ESTACION  MAGNITUD PUNTO_MUESTREO   ANO  MES  \\\n",
       "54395         28         79        60         8   28079060_8_8  2014    9   \n",
       "54396         28         79        60         8   28079060_8_8  2014    9   \n",
       "54397         28         79        60         8   28079060_8_8  2014    9   \n",
       "54398         28         79        60         8   28079060_8_8  2014    9   \n",
       "54399         28         79        60         8   28079060_8_8  2014    9   \n",
       "\n",
       "       DIA   H01 V01  ...   H20 V20   H21 V21   H22 V22   H23 V23   H24 V24  \n",
       "54395   26  11.0   V  ...  30.0   V  60.0   V  78.0   V  95.0   V  86.0   V  \n",
       "54396   27  66.0   V  ...  23.0   V  22.0   V  22.0   V  17.0   V  12.0   V  \n",
       "54397   28  11.0   V  ...  13.0   V  29.0   V  43.0   V  55.0   V  34.0   V  \n",
       "54398   29  54.0   V  ...  39.0   V  50.0   V  61.0   V  73.0   V  61.0   V  \n",
       "54399   30  39.0   V  ...  32.0   V  62.0   V  73.0   V  95.0   V  25.0   V  \n",
       "\n",
       "[5 rows x 56 columns]"
      ]
     },
     "execution_count": 19,
     "metadata": {},
     "output_type": "execute_result"
    }
   ],
   "source": [
    "# 3. Filtrar por datos NO2\n",
    "df_aire = df_aire[(df_aire['MAGNITUD'] == 8)]\n",
    "df_aire.head()\n",
    "df_aire.tail()"
   ]
  },
  {
   "cell_type": "code",
   "execution_count": 20,
   "metadata": {},
   "outputs": [],
   "source": [
    "df_aire['fecha'] = pd.to_datetime(df_aire[['ANO','MES','DIA']].rename(columns = {'ANO': 'YEAR', 'MES': 'MONTH', 'DIA': 'DAY'}))\n"
   ]
  },
  {
   "cell_type": "code",
   "execution_count": 21,
   "metadata": {},
   "outputs": [
    {
     "ename": "AttributeError",
     "evalue": "'DataFrame' object has no attribute 'append'",
     "output_type": "error",
     "traceback": [
      "\u001b[1;31m---------------------------------------------------------------------------\u001b[0m",
      "\u001b[1;31mAttributeError\u001b[0m                            Traceback (most recent call last)",
      "\u001b[1;32m~\\AppData\\Local\\Temp\\ipykernel_20568\\2561734580.py\u001b[0m in \u001b[0;36m?\u001b[1;34m()\u001b[0m\n\u001b[0;32m     13\u001b[0m      \u001b[0maux\u001b[0m\u001b[1;33m[\u001b[0m\u001b[1;34m'verificado'\u001b[0m\u001b[1;33m]\u001b[0m \u001b[1;33m=\u001b[0m \u001b[0mdf_aire\u001b[0m \u001b[1;33m[\u001b[0m \u001b[0mveri_columns\u001b[0m\u001b[1;33m[\u001b[0m\u001b[0mh\u001b[0m\u001b[1;33m-\u001b[0m\u001b[1;36m1\u001b[0m\u001b[1;33m]\u001b[0m \u001b[1;33m]\u001b[0m\u001b[1;33m\u001b[0m\u001b[1;33m\u001b[0m\u001b[0m\n\u001b[0;32m     14\u001b[0m      \u001b[0maux\u001b[0m\u001b[1;33m[\u001b[0m\u001b[1;34m'hora'\u001b[0m\u001b[1;33m]\u001b[0m \u001b[1;33m=\u001b[0m \u001b[0mh\u001b[0m\u001b[1;33m-\u001b[0m\u001b[1;36m1\u001b[0m\u001b[1;33m\u001b[0m\u001b[1;33m\u001b[0m\u001b[0m\n\u001b[0;32m     15\u001b[0m      \u001b[0maux\u001b[0m\u001b[1;33m[\u001b[0m\u001b[1;33m[\u001b[0m\u001b[1;34m'ano'\u001b[0m\u001b[1;33m,\u001b[0m \u001b[1;34m'mes'\u001b[0m\u001b[1;33m,\u001b[0m \u001b[1;34m'dia'\u001b[0m\u001b[1;33m]\u001b[0m\u001b[1;33m]\u001b[0m \u001b[1;33m=\u001b[0m \u001b[0mdf_aire\u001b[0m\u001b[1;33m[\u001b[0m\u001b[1;33m[\u001b[0m\u001b[1;34m'ANO'\u001b[0m\u001b[1;33m,\u001b[0m\u001b[1;34m'MES'\u001b[0m\u001b[1;33m,\u001b[0m\u001b[1;34m'DIA'\u001b[0m\u001b[1;33m]\u001b[0m\u001b[1;33m]\u001b[0m\u001b[1;33m\u001b[0m\u001b[1;33m\u001b[0m\u001b[0m\n\u001b[0;32m     16\u001b[0m      \u001b[0maux\u001b[0m\u001b[1;33m[\u001b[0m\u001b[1;34m'estacion'\u001b[0m\u001b[1;33m]\u001b[0m \u001b[1;33m=\u001b[0m \u001b[0mdf_aire\u001b[0m \u001b[1;33m[\u001b[0m\u001b[1;34m'ESTACION'\u001b[0m\u001b[1;33m]\u001b[0m\u001b[1;33m\u001b[0m\u001b[1;33m\u001b[0m\u001b[0m\n\u001b[1;32m---> 17\u001b[1;33m      \u001b[0mdata\u001b[0m \u001b[1;33m=\u001b[0m \u001b[0mdata\u001b[0m\u001b[1;33m.\u001b[0m\u001b[0mappend\u001b[0m\u001b[1;33m(\u001b[0m\u001b[0maux\u001b[0m\u001b[1;33m,\u001b[0m \u001b[0msort\u001b[0m \u001b[1;33m=\u001b[0m \u001b[1;32mFalse\u001b[0m\u001b[1;33m,\u001b[0m \u001b[0mignore_index\u001b[0m \u001b[1;33m=\u001b[0m \u001b[1;32mTrue\u001b[0m\u001b[1;33m)\u001b[0m\u001b[1;33m\u001b[0m\u001b[1;33m\u001b[0m\u001b[0m\n\u001b[0m\u001b[0;32m     18\u001b[0m \u001b[1;33m\u001b[0m\u001b[0m\n\u001b[0;32m     19\u001b[0m \u001b[0mdata\u001b[0m \u001b[1;33m=\u001b[0m \u001b[0mdata\u001b[0m\u001b[1;33m.\u001b[0m\u001b[0mastype\u001b[0m\u001b[1;33m(\u001b[0m\u001b[1;33m{\u001b[0m\u001b[1;34m'hora'\u001b[0m\u001b[1;33m:\u001b[0m \u001b[1;34m'int32'\u001b[0m\u001b[1;33m}\u001b[0m\u001b[1;33m,\u001b[0m \u001b[0mcopy\u001b[0m \u001b[1;33m=\u001b[0m \u001b[1;32mFalse\u001b[0m\u001b[1;33m)\u001b[0m\u001b[1;33m\u001b[0m\u001b[1;33m\u001b[0m\u001b[0m\n\u001b[0;32m     20\u001b[0m \u001b[1;33m\u001b[0m\u001b[0m\n",
      "\u001b[1;32mc:\\Users\\emona\\AppData\\Local\\Programs\\Python\\Python310\\lib\\site-packages\\pandas\\core\\generic.py\u001b[0m in \u001b[0;36m?\u001b[1;34m(self, name)\u001b[0m\n\u001b[0;32m   5985\u001b[0m             \u001b[1;32mand\u001b[0m \u001b[0mname\u001b[0m \u001b[1;32mnot\u001b[0m \u001b[1;32min\u001b[0m \u001b[0mself\u001b[0m\u001b[1;33m.\u001b[0m\u001b[0m_accessors\u001b[0m\u001b[1;33m\u001b[0m\u001b[1;33m\u001b[0m\u001b[0m\n\u001b[0;32m   5986\u001b[0m             \u001b[1;32mand\u001b[0m \u001b[0mself\u001b[0m\u001b[1;33m.\u001b[0m\u001b[0m_info_axis\u001b[0m\u001b[1;33m.\u001b[0m\u001b[0m_can_hold_identifiers_and_holds_name\u001b[0m\u001b[1;33m(\u001b[0m\u001b[0mname\u001b[0m\u001b[1;33m)\u001b[0m\u001b[1;33m\u001b[0m\u001b[1;33m\u001b[0m\u001b[0m\n\u001b[0;32m   5987\u001b[0m         ):\n\u001b[0;32m   5988\u001b[0m             \u001b[1;32mreturn\u001b[0m \u001b[0mself\u001b[0m\u001b[1;33m[\u001b[0m\u001b[0mname\u001b[0m\u001b[1;33m]\u001b[0m\u001b[1;33m\u001b[0m\u001b[1;33m\u001b[0m\u001b[0m\n\u001b[1;32m-> 5989\u001b[1;33m         \u001b[1;32mreturn\u001b[0m \u001b[0mobject\u001b[0m\u001b[1;33m.\u001b[0m\u001b[0m__getattribute__\u001b[0m\u001b[1;33m(\u001b[0m\u001b[0mself\u001b[0m\u001b[1;33m,\u001b[0m \u001b[0mname\u001b[0m\u001b[1;33m)\u001b[0m\u001b[1;33m\u001b[0m\u001b[1;33m\u001b[0m\u001b[0m\n\u001b[0m",
      "\u001b[1;31mAttributeError\u001b[0m: 'DataFrame' object has no attribute 'append'"
     ]
    }
   ],
   "source": [
    "# 4. Extraer datos de las medidas tomadas y creamos un nuevo dataframe 'data' con el formato que nosotros queremos\n",
    "data_columns = [ 'H01', 'H02', 'H03', 'H04', 'H05', 'H06', 'H07', 'H08', 'H09', 'H10', 'H11', 'H12', 'H13', 'H14', 'H15', 'H16', 'H17', 'H18', 'H19', 'H20', 'H21', 'H22', 'H23', 'H24'] # feature\n",
    "veri_columns = [ 'V01', 'V02', 'V03', 'V04', 'V05', 'V06', 'V07', 'V08', 'V09', 'V10', 'V11', 'V12', 'V13', 'V14', 'V15', 'V16', 'V17', 'V18', 'V19', 'V20', 'V21', 'V22', 'V23', 'V24']\n",
    "\n",
    "hora_column = np.arange(1,25) # feature label\n",
    "\n",
    "data = pd.DataFrame(columns=['ano', 'mes', 'dia', 'hora', 'dato', 'verificado', 'estacion']) # DataFrame con datos finales\n",
    "aux = pd.DataFrame(columns=['ano', 'mes', 'dia', 'hora', 'dato', 'verificado', 'estacion']) # aux de próxima fila a ser añadida\n",
    "\n",
    "# para cada hora de cada fila, crea una nueva fila con su dato y su valor de verificado\n",
    "for  (h,d,v) in zip(hora_column, data_columns, veri_columns): \n",
    "     aux['dato'] = df_aire [ data_columns[h-1] ] \n",
    "     aux['verificado'] = df_aire [ veri_columns[h-1] ] \n",
    "     aux['hora'] = h-1\n",
    "     aux[['ano', 'mes', 'dia']] = df_aire[['ANO','MES','DIA']]\n",
    "     aux['estacion'] = df_aire ['ESTACION']\n",
    "     data = data.append(aux, sort = False, ignore_index = True)\n",
    "\n",
    "data = data.astype({'hora': 'int32'}, copy = False)\n",
    "\n",
    "data.head(10)"
   ]
  },
  {
   "cell_type": "code",
   "execution_count": null,
   "metadata": {},
   "outputs": [],
   "source": [
    "# Añadimos columna fecha de formato datetime\n",
    "data['fecha'] = pd.to_datetime(data[['ano','mes','dia','hora']].rename(columns = {'ano': 'year', 'mes': 'month',\n",
    "                                                                              'dia': 'day', 'hora': 'hour'}))"
   ]
  },
  {
   "cell_type": "code",
   "execution_count": null,
   "metadata": {},
   "outputs": [],
   "source": [
    "data"
   ]
  },
  {
   "cell_type": "code",
   "execution_count": null,
   "metadata": {},
   "outputs": [],
   "source": [
    "# Multi-index data frame con estacion y fecha :O\n",
    "data.set_index(['estacion', 'fecha'], inplace=True)"
   ]
  },
  {
   "cell_type": "code",
   "execution_count": null,
   "metadata": {},
   "outputs": [],
   "source": [
    "# Usamos fecha como indice para cada estacion\n",
    "#data.set_index(['fecha'], inplace=True)"
   ]
  },
  {
   "cell_type": "code",
   "execution_count": null,
   "metadata": {},
   "outputs": [],
   "source": [
    "# Ordnamos por estacion y luego por fecha (aprovechando el nuevo index)\n",
    "data = data.sort_values(['estacion', 'fecha'])\n",
    "data"
   ]
  },
  {
   "cell_type": "code",
   "execution_count": null,
   "metadata": {},
   "outputs": [],
   "source": [
    "# Para cada estación, rellenamos con NaN si hay alguna fila perdida y guardamos el resultado en un nuevo dataframe que ya debería tener todas las filas\n",
    "#estaciones = data['estacion'].unique()\n",
    "estaciones = data.index.get_level_values('estacion').unique()\n",
    "datetime_index = pd.date_range(start='2/1/2019', end='5/31/2019 23:00:00', freq='H', name='fecha')\n",
    "data_nuevo = pd.DataFrame()\n",
    "for estacion in estaciones:\n",
    "    #data_estacion = data[data['estacion'] == estacion]\n",
    "    data_estacion = data.loc[estacion]\n",
    "    print(estacion, len(data_estacion))\n",
    "    data_estacion = data_estacion.reindex(datetime_index)\n",
    "    data_estacion.reset_index(inplace=True)\n",
    "    print(estacion, len(data_estacion))\n",
    "    data_estacion['estacion'] = estacion\n",
    "    data_nuevo = data_nuevo.append(data_estacion)\n",
    "    \n",
    "print(len(data_nuevo))"
   ]
  },
  {
   "cell_type": "code",
   "execution_count": null,
   "metadata": {},
   "outputs": [],
   "source": [
    "# Multi-index data frame con estacion y fecha :O\n",
    "data_nuevo.set_index(['estacion', 'fecha'], inplace=True)"
   ]
  },
  {
   "cell_type": "code",
   "execution_count": null,
   "metadata": {},
   "outputs": [],
   "source": [
    "# Actualizamos data con el nuevo df:\n",
    "data = data_nuevo\n",
    "data.info()\n",
    "data"
   ]
  },
  {
   "cell_type": "code",
   "execution_count": null,
   "metadata": {},
   "outputs": [],
   "source": [
    "# Mostramos los datos que se habían perdidos\n",
    "missing_data = data[data['dato'].isna()]\n",
    "print(f'Cantidad de datos no existentes (perdidos): {len(missing_data)}')\n",
    "missing_data"
   ]
  },
  {
   "cell_type": "code",
   "execution_count": null,
   "metadata": {},
   "outputs": [],
   "source": [
    "# # Rellenamos las columnas conciernientes a la fecha que faltan en esos datos perdidos excepto la columna 'dato' que ya trataremos más adelante\n",
    "# dt = missing_data.index.get_level_values('fecha')\n",
    "# data.loc[data['dato'].isna(),'ano'] = dt.year\n",
    "# data.loc[data['dato'].isna(),'mes'] = dt.month\n",
    "# data.loc[data['dato'].isna(),'dia'] = dt.day\n",
    "# data.loc[data['dato'].isna(),'hora'] = dt.hour\n",
    "# data = data.astype({'hora': 'int32'}, copy = False)\n",
    "\n",
    "# #data.loc[data['dato'].isna(),['ano', 'mes', 'dia', 'hora']] = [dt.year, dt.month, dt.day, dt.hour]\n",
    "# data[data['dato'].isna()]"
   ]
  },
  {
   "cell_type": "code",
   "execution_count": null,
   "metadata": {},
   "outputs": [],
   "source": [
    "# 6. Por último, marcamos los datos no verificados como NaN\n",
    "no_verificados = data.loc[data['verificado'] != 'V']\n",
    "print(f'Cantidad de datos existentes pero no válidos:{len(no_verificados)}')\n",
    "data.loc[data['verificado'] != 'V', ['dato']] = np.nan\n",
    "data.loc[data['verificado'] != 'V']"
   ]
  },
  {
   "cell_type": "code",
   "execution_count": null,
   "metadata": {},
   "outputs": [],
   "source": [
    "# borramos columna verificado\n",
    "del data['verificado']\n",
    "data.info()"
   ]
  },
  {
   "cell_type": "code",
   "execution_count": null,
   "metadata": {},
   "outputs": [],
   "source": [
    "# Primero de todo, deshacemos el multíndice\n",
    "data.reset_index(inplace=True) # Salvar los datos sin indices de estacion y fecha"
   ]
  },
  {
   "cell_type": "code",
   "execution_count": null,
   "metadata": {},
   "outputs": [],
   "source": [
    "# 7. Añadimos columna para el día de la semana\n",
    "#dates = data.index.get_level_values('fecha').to_pydatetime() # con multiindex\n",
    "dates = data['fecha'].dt.to_pydatetime() # con column y sin multiindex\n",
    "days_of_week = ['Lunes', 'Martes', 'Miercoles', 'Jueves', 'Viernes', 'Sabado', 'Domingo']\n",
    "data['dia_semana'] = np.array([days_of_week[d.weekday()] for d in dates])"
   ]
  },
  {
   "cell_type": "code",
   "execution_count": null,
   "metadata": {},
   "outputs": [],
   "source": [
    "data = data.rename(columns={'dato': 'NO2'}, copy = False)"
   ]
  },
  {
   "cell_type": "code",
   "execution_count": null,
   "metadata": {},
   "outputs": [],
   "source": [
    "data.info()\n",
    "data"
   ]
  },
  {
   "cell_type": "code",
   "execution_count": null,
   "metadata": {},
   "outputs": [],
   "source": [
    "# Serie con solamente los datos de contaminación\n",
    "datos = data['NO2']"
   ]
  },
  {
   "cell_type": "code",
   "execution_count": null,
   "metadata": {},
   "outputs": [],
   "source": [
    "# Número de datos no válidos\n",
    "len(datos[datos.isnull()])"
   ]
  },
  {
   "cell_type": "code",
   "execution_count": null,
   "metadata": {},
   "outputs": [],
   "source": [
    "datos.to_csv('pre_24est-feb-may_2019.csv') # Salvado serie solo datos históricos\n",
    "data.to_csv('pre_24est-feb-may_2019+date.csv') # Salvado con los datos de las fechas"
   ]
  },
  {
   "cell_type": "code",
   "execution_count": null,
   "metadata": {},
   "outputs": [],
   "source": [
    "data_estacion = data[data['estacion'] == 4].copy(deep=True)\n",
    "datos_estacion = data_estacion['NO2'].values"
   ]
  },
  {
   "cell_type": "code",
   "execution_count": null,
   "metadata": {},
   "outputs": [],
   "source": [
    "from itertools import accumulate\n",
    "import matplotlib.pyplot as plt\n",
    "\n",
    "# Visualizamos datos de salida\n",
    "range_data = range(len(datos_estacion))\n",
    "plt.title('Datos de NO² por horas para el periodo seleccionado')\n",
    "plt.xlabel('Horas (en secuencia)')\n",
    "plt.ylabel('NO² (en µg/m³)')\n",
    "\n",
    "month_marks = list(map(lambda x: x * 24, accumulate(days_month, lambda x, y: (x+y))))\n",
    "plt.plot(range_data, datos_estacion)\n",
    "for mark in month_marks:\n",
    "    plt.axvline(x=mark, color='r', linestyle='--')"
   ]
  },
  {
   "cell_type": "code",
   "execution_count": null,
   "metadata": {},
   "outputs": [],
   "source": [
    "datos_estacion = np.reshape(datos_estacion, (datos_estacion.shape[0], 1))"
   ]
  },
  {
   "cell_type": "code",
   "execution_count": null,
   "metadata": {},
   "outputs": [],
   "source": [
    "for estacion in estaciones[1:]:\n",
    "    aux = data[data['estacion'] == estacion]['NO2'].values\n",
    "    aux = np.reshape(aux, (aux.shape[0], 1))\n",
    "    datos_estacion = np.concatenate((datos_estacion, aux), axis=-1)"
   ]
  },
  {
   "cell_type": "code",
   "execution_count": null,
   "metadata": {},
   "outputs": [],
   "source": [
    "fig, axs = plt.subplots(2, 1)\n",
    "\n",
    "#ax = fig.add_subplot(111)\n",
    "#plt.title('Datos de NO² por horas para el periodo seleccionado')\n",
    "#plt.xlabel('Horas (en secuencia)')\n",
    "#plt.ylabel('NO² (en µg/m³)')\n",
    "\n",
    "axs[0].plot(range_data, datos_estacion[:,0])\n",
    "for mark in month_marks:\n",
    "    axs[0].axvline(x=mark, color='r', linestyle='--')\n",
    "axs[1].plot(range_data, datos_estacion[:,1])\n",
    "for mark in month_marks:\n",
    "    axs[1].axvline(x=mark, color='r', linestyle='--')"
   ]
  }
 ],
 "metadata": {
  "kernelspec": {
   "display_name": "Python 3",
   "language": "python",
   "name": "python3"
  },
  "language_info": {
   "codemirror_mode": {
    "name": "ipython",
    "version": 3
   },
   "file_extension": ".py",
   "mimetype": "text/x-python",
   "name": "python",
   "nbconvert_exporter": "python",
   "pygments_lexer": "ipython3",
   "version": "3.10.11"
  },
  "orig_nbformat": 4
 },
 "nbformat": 4,
 "nbformat_minor": 2
}
